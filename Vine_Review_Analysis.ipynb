{
  "nbformat": 4,
  "nbformat_minor": 0,
  "metadata": {
    "colab": {
      "provenance": []
    },
    "kernelspec": {
      "name": "python3",
      "display_name": "Python 3"
    },
    "language_info": {
      "name": "python"
    }
  },
  "cells": [
    {
      "cell_type": "code",
      "execution_count": 1,
      "metadata": {
        "colab": {
          "base_uri": "https://localhost:8080/"
        },
        "id": "7HUctI6mvjoI",
        "outputId": "233c81c7-2596-4c18-d443-4b9ea25eded9"
      },
      "outputs": [
        {
          "output_type": "stream",
          "name": "stdout",
          "text": [
            "Looking in indexes: https://pypi.org/simple, https://us-python.pkg.dev/colab-wheels/public/simple/\n",
            "Collecting pyspark\n",
            "  Downloading pyspark-3.3.1.tar.gz (281.4 MB)\n",
            "\u001b[K     |████████████████████████████████| 281.4 MB 44 kB/s \n",
            "\u001b[?25hCollecting py4j==0.10.9.5\n",
            "  Downloading py4j-0.10.9.5-py2.py3-none-any.whl (199 kB)\n",
            "\u001b[K     |████████████████████████████████| 199 kB 63.5 MB/s \n",
            "\u001b[?25hBuilding wheels for collected packages: pyspark\n",
            "  Building wheel for pyspark (setup.py) ... \u001b[?25l\u001b[?25hdone\n",
            "  Created wheel for pyspark: filename=pyspark-3.3.1-py2.py3-none-any.whl size=281845512 sha256=7dabf6f37070400fb552757231c208a4ad67c99e7bd36e259764f495dcda4a1f\n",
            "  Stored in directory: /root/.cache/pip/wheels/43/dc/11/ec201cd671da62fa9c5cc77078235e40722170ceba231d7598\n",
            "Successfully built pyspark\n",
            "Installing collected packages: py4j, pyspark\n",
            "Successfully installed py4j-0.10.9.5 pyspark-3.3.1\n"
          ]
        }
      ],
      "source": [
        "! pip install pyspark"
      ]
    },
    {
      "cell_type": "code",
      "source": [
        "!wget https://jdbc.postgresql.org/download/postgresql-42.2.16.jar"
      ],
      "metadata": {
        "colab": {
          "base_uri": "https://localhost:8080/"
        },
        "id": "yW4uVp1rvtTt",
        "outputId": "fadbaf92-a686-4ff1-c729-d3d91c343ee0"
      },
      "execution_count": 2,
      "outputs": [
        {
          "output_type": "stream",
          "name": "stdout",
          "text": [
            "--2022-12-19 23:37:44--  https://jdbc.postgresql.org/download/postgresql-42.2.16.jar\n",
            "Resolving jdbc.postgresql.org (jdbc.postgresql.org)... 72.32.157.228, 2001:4800:3e1:1::228\n",
            "Connecting to jdbc.postgresql.org (jdbc.postgresql.org)|72.32.157.228|:443... connected.\n",
            "HTTP request sent, awaiting response... 200 OK\n",
            "Length: 1002883 (979K) [application/java-archive]\n",
            "Saving to: ‘postgresql-42.2.16.jar’\n",
            "\n",
            "postgresql-42.2.16. 100%[===================>] 979.38K  6.04MB/s    in 0.2s    \n",
            "\n",
            "2022-12-19 23:37:45 (6.04 MB/s) - ‘postgresql-42.2.16.jar’ saved [1002883/1002883]\n",
            "\n"
          ]
        }
      ]
    },
    {
      "cell_type": "code",
      "source": [
        "from pyspark.sql import SparkSession\n",
        "spark = SparkSession.builder.appName(\"M17-Amazon-Challenge\").config(\"spark.driver.extraClassPath\",\"/content/postgresql-42.2.16.jar\").getOrCreate()"
      ],
      "metadata": {
        "id": "6FoGlqx4wBvy"
      },
      "execution_count": 3,
      "outputs": []
    },
    {
      "cell_type": "code",
      "source": [
        "from pyspark import SparkFiles\n",
        "url = \"https://s3.amazonaws.com/amazon-reviews-pds/tsv/amazon_reviews_us_Musical_Instruments_v1_00.tsv.gz\"\n",
        "spark.sparkContext.addFile(url)\n",
        "df = spark.read.option(\"encoding\", \"UTF-8\").csv(SparkFiles.get(\"amazon_reviews_us_Musical_Instruments_v1_00.tsv.gz\"), sep=\"\\t\", header=True, inferSchema=True)\n",
        "df.show()"
      ],
      "metadata": {
        "colab": {
          "base_uri": "https://localhost:8080/"
        },
        "id": "QSb-1jviwJCl",
        "outputId": "8e15a2d3-e1b6-45b0-8ef7-b59c61fbaee1"
      },
      "execution_count": 4,
      "outputs": [
        {
          "output_type": "stream",
          "name": "stdout",
          "text": [
            "+-----------+-----------+--------------+----------+--------------+--------------------+-------------------+-----------+-------------+-----------+----+-----------------+--------------------+--------------------+-------------------+\n",
            "|marketplace|customer_id|     review_id|product_id|product_parent|       product_title|   product_category|star_rating|helpful_votes|total_votes|vine|verified_purchase|     review_headline|         review_body|        review_date|\n",
            "+-----------+-----------+--------------+----------+--------------+--------------------+-------------------+-----------+-------------+-----------+----+-----------------+--------------------+--------------------+-------------------+\n",
            "|         US|   45610553| RMDCHWD0Y5OZ9|B00HH62VB6|     618218723|AGPtek® 10 Isolat...|Musical Instruments|          3|            0|          1|   N|                N|         Three Stars|Works very good, ...|2015-08-31 00:00:00|\n",
            "|         US|   14640079| RZSL0BALIYUNU|B003LRN53I|     986692292|Sennheiser HD203 ...|Musical Instruments|          5|            0|          0|   N|                Y|          Five Stars|Nice headphones a...|2015-08-31 00:00:00|\n",
            "|         US|    6111003| RIZR67JKUDBI0|B0006VMBHI|     603261968|AudioQuest LP rec...|Musical Instruments|          3|            0|          1|   N|                Y|         Three Stars|removes dust. doe...|2015-08-31 00:00:00|\n",
            "|         US|    1546619|R27HL570VNL85F|B002B55TRG|     575084461|Hohner Inc. 560BX...|Musical Instruments|          5|            0|          0|   N|                Y|I purchase these ...|I purchase these ...|2015-08-31 00:00:00|\n",
            "|         US|   12222213|R34EBU9QDWJ1GD|B00N1YPXW2|     165236328|Blue Yeti USB Mic...|Musical Instruments|          5|            0|          0|   N|                Y|          Five Stars|This is an awesom...|2015-08-31 00:00:00|\n",
            "|         US|   46018513|R1WCUI4Z1SIQEO|B001N4GRGS|     134151483|Middle Atlantic P...|Musical Instruments|          5|            0|          0|   N|                N|          Five Stars|Used to cool equi...|2015-08-31 00:00:00|\n",
            "|         US|   10225065| RL5LNO26GAVJ1|B009PJRMHQ|     694166585|Kmise 1pc Pickgua...|Musical Instruments|          2|            3|          4|   N|                Y|Will not Fit Epip...|Note- Does not Fi...|2015-08-31 00:00:00|\n",
            "|         US|    6356995|R3GYQ5W8JHP8SB|B00NKBDAZS|     446431775|Kealoha Concert U...|Musical Instruments|          5|            0|          0|   N|                Y|          Five Stars|Well built Ukulel...|2015-08-31 00:00:00|\n",
            "|         US|   35297198|R30SHYQXGG5EYC|B006MIU7U2|     125871705|Halco 80000 - MR1...|Musical Instruments|          5|            0|          0|   N|                Y|Works fine. Hope ...|Had to replace a ...|2015-08-31 00:00:00|\n",
            "|         US|   32139520|R14YLXA56NP51I|B000FIBD0I|     771888534|Gator GPTBLACK Pl...|Musical Instruments|          5|            1|          1|   N|                N|I upgraded the po...|I've owned multip...|2015-08-31 00:00:00|\n",
            "|         US|   36060782|R1ZH0HSH38IOTZ|B0002E52GG|      68535945|Hetman 1 - Light ...|Musical Instruments|          5|            0|          0|   N|                Y|My son's favourit...|Consistent qualit...|2015-08-31 00:00:00|\n",
            "|         US|    5301309|R3H53KLLC210XI|B00RZIH52G|     725541773|Dragonpad pop fil...|Musical Instruments|          4|            0|          0|   N|                Y|Great pop filter ...|by far the best p...|2015-08-31 00:00:00|\n",
            "|         US|   37472935|R3OOR877NGA8JK|B001792BAU|      46570323|DharmaObjects Rel...|Musical Instruments|          3|            0|          0|   N|                Y|                  Ok|Beautiful set. On...|2015-08-31 00:00:00|\n",
            "|         US|   33578270|R1BY7WKOZ3KMH0|B009GSKW1Y|     547963417|Musiclily SSS Pla...|Musical Instruments|          2|            0|          0|   N|                Y|           Two Stars|Bridge pickup was...|2015-08-31 00:00:00|\n",
            "|         US|   22070226| RXP1TFSWE8EG9|B0002F4TKA|     436074323|Vic Firth America...|Musical Instruments|          5|            0|          0|   N|                Y|          Five Stars|Feels good and la...|2015-08-31 00:00:00|\n",
            "|         US|   52862655|R3J44DPP12OTLJ|B00K17YFBW|      81933093|Guitar Stand for ...|Musical Instruments|          5|            0|          0|   N|                Y|Great stand... on...|I love the stand....|2015-08-31 00:00:00|\n",
            "|         US|    4427243| RFOV69SK0T676|B00EQ24HJS|     669249276|Generic 3PLY Faux...|Musical Instruments|          5|            0|          0|   N|                Y|Looks great. You ...|On time. Looks gr...|2015-08-31 00:00:00|\n",
            "|         US|   14108571|R2HUWDNW62FOL3|B00IBOYTUE|     749537231|Audio 2000 6525 3...|Musical Instruments|          1|            0|          0|   N|                Y|  Poor sound quality|I was hoping it w...|2015-08-31 00:00:00|\n",
            "|         US|   27314089|R1KSU30XZGR452|B00FBRUSAE|     792472601|Sawtooth ST-AMP-1...|Musical Instruments|          5|            0|          0|   N|                Y|Perfect for the b...|Good sound for it...|2015-08-31 00:00:00|\n",
            "|         US|   16735445|R2TZVLLTSHA07N|B0113D2QUO|     269114019|Upado Unlimited G...|Musical Instruments|          5|            1|          1|   N|                Y|It really is a mu...|Wow! I didn't exp...|2015-08-31 00:00:00|\n",
            "+-----------+-----------+--------------+----------+--------------+--------------------+-------------------+-----------+-------------+-----------+----+-----------------+--------------------+--------------------+-------------------+\n",
            "only showing top 20 rows\n",
            "\n"
          ]
        }
      ]
    },
    {
      "cell_type": "code",
      "source": [
        "#Total_votes Greter than or equal to 20\n",
        "vote_count_20 = df.filter(df.total_votes>=20)\n",
        "vote_count_20.show()"
      ],
      "metadata": {
        "colab": {
          "base_uri": "https://localhost:8080/"
        },
        "id": "bbUIQwiEwZVe",
        "outputId": "70c3328b-c46c-40c7-9997-20c6e284e78e"
      },
      "execution_count": 8,
      "outputs": [
        {
          "output_type": "stream",
          "name": "stdout",
          "text": [
            "+-----------+-----------+--------------+----------+--------------+--------------------+-------------------+-----------+-------------+-----------+----+-----------------+--------------------+--------------------+-------------------+\n",
            "|marketplace|customer_id|     review_id|product_id|product_parent|       product_title|   product_category|star_rating|helpful_votes|total_votes|vine|verified_purchase|     review_headline|         review_body|        review_date|\n",
            "+-----------+-----------+--------------+----------+--------------+--------------------+-------------------+-----------+-------------+-----------+----+-----------------+--------------------+--------------------+-------------------+\n",
            "|         US|   15365576|R2243Y3OD8U6KQ|B00W1RTVGO|     160618734|Supertech stage l...|Musical Instruments|          5|           47|         61|   N|                N|This fills a room...|I am always looki...|2015-08-31 00:00:00|\n",
            "|         US|   28770559|R2TGT0CDTCAAHW|B00INJ7HBK|     157027184|Singing Machine I...|Musical Instruments|          5|           21|         23|   N|                Y|   excellent product|Kids love it! It'...|2015-08-31 00:00:00|\n",
            "|         US|   35225823| RX4D22YSXEF4P|B009EK8PUY|     166820090|Akai Front Load C...|Musical Instruments|          1|           37|         38|   N|                Y|All the reviews t...|All the reviews t...|2015-08-31 00:00:00|\n",
            "|         US|   24740219|R3FL2NTLFUSPTQ|B014K2S348|     865024902|AKG 2015 NEWEST M...|Musical Instruments|          5|           33|         37|   N|                N|Might need an Amp...|I picked these he...|2015-08-30 00:00:00|\n",
            "|         US|   26124872|R3QTP3YNZXAPPF|B004ISK4E2|     269767230|Fender CD-60 All ...|Musical Instruments|          3|           23|         24|   N|                Y|Couldnt be happie...|Great value. Awes...|2015-08-30 00:00:00|\n",
            "|         US|   16452718|R36V6V42VN5AS5|B00SCP7IB4|     160806469|Numark Mixtrack 3...|Musical Instruments|          5|           34|         37|   N|                Y|let me say that t...|First off, let me...|2015-08-30 00:00:00|\n",
            "|         US|   40567300|R27LZWE27BJPOB|B0142OY3ZM|     201152025|WOWTOU RGB Stage ...|Musical Instruments|          5|           22|         23|   N|                N|    Neat desktop toy|I saw this item a...|2015-08-30 00:00:00|\n",
            "|         US|   52695075|  RMRD6SMF2AUQ|B010W6WFEA|     592936032|Shure MV51 Digita...|Musical Instruments|          3|            4|         21|   N|                N|A bit short of th...|Almost Shure, alm...|2015-08-30 00:00:00|\n",
            "|         US|   11587240| RMPCXKWX3T57Y|B000U0DU34|     875707506|Fulltone OCD Obse...|Musical Instruments|          1|            1|         73|   N|                N|so happy the fina...|Finally I can't w...|2015-08-29 00:00:00|\n",
            "|         US|   49287335|R1P7GJ0IN2BRNH|B005FIFM14|       2563833|Pick Punch - The ...|Musical Instruments|          5|           37|         37|   N|                Y|  super fun and easy|Had it for about ...|2015-08-29 00:00:00|\n",
            "|         US|   50984149|R2R6JPF9KOD2HJ|B008GXEFWC|     162279247|ddrum DD1 Complet...|Musical Instruments|          5|           19|         20|   N|                Y|   Super Drum Kit!!!|Awesome Kit With ...|2015-08-29 00:00:00|\n",
            "|         US|   44703201|R3JM8Z4SP9N3H2|B00BG300DC|     310087706|PRS Exclusive Tob...|Musical Instruments|          1|            4|         23|   N|                N|Total Marketing Scam|This is a marketi...|2015-08-29 00:00:00|\n",
            "|         US|   18517211|R2J0ZZGFXKM8KR|B00MZY6DXM|     498246743|Bakelite Guitar F...|Musical Instruments|          2|           21|         22|   N|                Y|NOT A SET OF NUT ...|NOT A SET OF NUT ...|2015-08-28 00:00:00|\n",
            "|         US|   29380174|R238ZSG6TSUBNX|B0025VLQVE|     481754329|Dean Vendetta XMT...|Musical Instruments|          5|           27|         27|   N|                Y|          Amazing!!!|I can't believe p...|2015-08-28 00:00:00|\n",
            "|         US|   37778551|R37WGVXA94D62S|B00MHTVIDU|     128700848|Rode iXY Recordin...|Musical Instruments|          2|            4|         20|   N|                Y|No it does not wo...|don't waste time ...|2015-08-28 00:00:00|\n",
            "|         US|   47575748| RC6Y8GYIQZ8YU|B00HVLUR54|       9240469|Audio-Technica AT...|Musical Instruments|          3|           72|         85|   N|                Y|Good Sound, Medio...|Sound quality is ...|2015-08-28 00:00:00|\n",
            "|         US|    1221512| RFL3TJED8C240|B00IZP4XR8|     386235968|Ibanez RG Series ...|Musical Instruments|          5|           13|         24|   N|                N|           It dj0nts|0/0<br />It dj0nt...|2015-08-28 00:00:00|\n",
            "|         US|   51260912|R3D4P7A8Q1C70F|B00WU5OM5M|      18153107|LaluceNatz 18LED ...|Musical Instruments|          5|           22|         27|   N|                Y|Great product, es...|Ok, here is the d...|2015-08-27 00:00:00|\n",
            "|         US|   40130155|R3PRNAQVQBB9M6|B00MUFJXTM|     500213118|TOTMC Legend of Z...|Musical Instruments|          1|           21|         30|   N|                Y|Product Not as Ad...|Terrible ocarina,...|2015-08-27 00:00:00|\n",
            "|         US|    3430931|R2NTTIW5KBKLYG|B011I9AKYW|     686654129|WOWTOU LED Stage ...|Musical Instruments|          5|           19|         20|   N|                N|   Great Party Light|This is a great a...|2015-08-27 00:00:00|\n",
            "+-----------+-----------+--------------+----------+--------------+--------------------+-------------------+-----------+-------------+-----------+----+-----------------+--------------------+--------------------+-------------------+\n",
            "only showing top 20 rows\n",
            "\n"
          ]
        }
      ]
    },
    {
      "cell_type": "code",
      "source": [
        "#2\n",
        "helpful_votes = vote_count_20.filter((vote_count_20.helpful_votes/vote_count_20.total_votes) >= 0.5)\n",
        "helpful_votes.show()"
      ],
      "metadata": {
        "colab": {
          "base_uri": "https://localhost:8080/"
        },
        "id": "rExlIf_SxP0c",
        "outputId": "a704f6e2-a7c4-435c-b862-d4229f285914"
      },
      "execution_count": 10,
      "outputs": [
        {
          "output_type": "stream",
          "name": "stdout",
          "text": [
            "+-----------+-----------+--------------+----------+--------------+--------------------+-------------------+-----------+-------------+-----------+----+-----------------+--------------------+--------------------+-------------------+\n",
            "|marketplace|customer_id|     review_id|product_id|product_parent|       product_title|   product_category|star_rating|helpful_votes|total_votes|vine|verified_purchase|     review_headline|         review_body|        review_date|\n",
            "+-----------+-----------+--------------+----------+--------------+--------------------+-------------------+-----------+-------------+-----------+----+-----------------+--------------------+--------------------+-------------------+\n",
            "|         US|   15365576|R2243Y3OD8U6KQ|B00W1RTVGO|     160618734|Supertech stage l...|Musical Instruments|          5|           47|         61|   N|                N|This fills a room...|I am always looki...|2015-08-31 00:00:00|\n",
            "|         US|   28770559|R2TGT0CDTCAAHW|B00INJ7HBK|     157027184|Singing Machine I...|Musical Instruments|          5|           21|         23|   N|                Y|   excellent product|Kids love it! It'...|2015-08-31 00:00:00|\n",
            "|         US|   35225823| RX4D22YSXEF4P|B009EK8PUY|     166820090|Akai Front Load C...|Musical Instruments|          1|           37|         38|   N|                Y|All the reviews t...|All the reviews t...|2015-08-31 00:00:00|\n",
            "|         US|   24740219|R3FL2NTLFUSPTQ|B014K2S348|     865024902|AKG 2015 NEWEST M...|Musical Instruments|          5|           33|         37|   N|                N|Might need an Amp...|I picked these he...|2015-08-30 00:00:00|\n",
            "|         US|   26124872|R3QTP3YNZXAPPF|B004ISK4E2|     269767230|Fender CD-60 All ...|Musical Instruments|          3|           23|         24|   N|                Y|Couldnt be happie...|Great value. Awes...|2015-08-30 00:00:00|\n",
            "|         US|   16452718|R36V6V42VN5AS5|B00SCP7IB4|     160806469|Numark Mixtrack 3...|Musical Instruments|          5|           34|         37|   N|                Y|let me say that t...|First off, let me...|2015-08-30 00:00:00|\n",
            "|         US|   40567300|R27LZWE27BJPOB|B0142OY3ZM|     201152025|WOWTOU RGB Stage ...|Musical Instruments|          5|           22|         23|   N|                N|    Neat desktop toy|I saw this item a...|2015-08-30 00:00:00|\n",
            "|         US|   49287335|R1P7GJ0IN2BRNH|B005FIFM14|       2563833|Pick Punch - The ...|Musical Instruments|          5|           37|         37|   N|                Y|  super fun and easy|Had it for about ...|2015-08-29 00:00:00|\n",
            "|         US|   50984149|R2R6JPF9KOD2HJ|B008GXEFWC|     162279247|ddrum DD1 Complet...|Musical Instruments|          5|           19|         20|   N|                Y|   Super Drum Kit!!!|Awesome Kit With ...|2015-08-29 00:00:00|\n",
            "|         US|   18517211|R2J0ZZGFXKM8KR|B00MZY6DXM|     498246743|Bakelite Guitar F...|Musical Instruments|          2|           21|         22|   N|                Y|NOT A SET OF NUT ...|NOT A SET OF NUT ...|2015-08-28 00:00:00|\n",
            "|         US|   29380174|R238ZSG6TSUBNX|B0025VLQVE|     481754329|Dean Vendetta XMT...|Musical Instruments|          5|           27|         27|   N|                Y|          Amazing!!!|I can't believe p...|2015-08-28 00:00:00|\n",
            "|         US|   47575748| RC6Y8GYIQZ8YU|B00HVLUR54|       9240469|Audio-Technica AT...|Musical Instruments|          3|           72|         85|   N|                Y|Good Sound, Medio...|Sound quality is ...|2015-08-28 00:00:00|\n",
            "|         US|    1221512| RFL3TJED8C240|B00IZP4XR8|     386235968|Ibanez RG Series ...|Musical Instruments|          5|           13|         24|   N|                N|           It dj0nts|0/0<br />It dj0nt...|2015-08-28 00:00:00|\n",
            "|         US|   51260912|R3D4P7A8Q1C70F|B00WU5OM5M|      18153107|LaluceNatz 18LED ...|Musical Instruments|          5|           22|         27|   N|                Y|Great product, es...|Ok, here is the d...|2015-08-27 00:00:00|\n",
            "|         US|   40130155|R3PRNAQVQBB9M6|B00MUFJXTM|     500213118|TOTMC Legend of Z...|Musical Instruments|          1|           21|         30|   N|                Y|Product Not as Ad...|Terrible ocarina,...|2015-08-27 00:00:00|\n",
            "|         US|    3430931|R2NTTIW5KBKLYG|B011I9AKYW|     686654129|WOWTOU LED Stage ...|Musical Instruments|          5|           19|         20|   N|                N|   Great Party Light|This is a great a...|2015-08-27 00:00:00|\n",
            "|         US|   23046787|R3JNDLZ3KACRLG|B00MZCES7W|     356038397|Casio Learn-To-Pl...|Musical Instruments|          5|           29|         33|   N|                N|Best Learning Key...|My father in law ...|2015-08-27 00:00:00|\n",
            "|         US|   47324124|R1PVVYYY0Q1HZ0|B00IPWOEJI|     627374566|TMS Black Ebony W...|Musical Instruments|          5|           21|         21|   N|                Y|Appears to be goo...|Exactly what I wa...|2015-08-27 00:00:00|\n",
            "|         US|   42689422|R1R9RU7JW0MFR2|B0124Y99PQ|     618027384|Casio CGP-700BK C...|Musical Instruments|          4|           20|         23|   Y|                N|Be prepared to be...|First off PLEASE ...|2015-08-27 00:00:00|\n",
            "|         US|   29940086|R1G9N0CW2982PA|B00BHQXM8S|     122514984|             Casio_3|Musical Instruments|          5|           21|         24|   N|                Y|Perfect for what ...|Exactly what we n...|2015-08-26 00:00:00|\n",
            "+-----------+-----------+--------------+----------+--------------+--------------------+-------------------+-----------+-------------+-----------+----+-----------------+--------------------+--------------------+-------------------+\n",
            "only showing top 20 rows\n",
            "\n"
          ]
        }
      ]
    },
    {
      "cell_type": "code",
      "source": [
        "#3\n",
        "\n",
        "vine_program_y = helpful_votes.filter(helpful_votes.vine == \"Y\")\n",
        "vine_program_y.show()"
      ],
      "metadata": {
        "colab": {
          "base_uri": "https://localhost:8080/"
        },
        "id": "dN9D1cI4yENR",
        "outputId": "c44c936c-1684-4b82-d4db-406b61826576"
      },
      "execution_count": 16,
      "outputs": [
        {
          "output_type": "stream",
          "name": "stdout",
          "text": [
            "+-----------+-----------+--------------+----------+--------------+--------------------+-------------------+-----------+-------------+-----------+----+-----------------+--------------------+--------------------+-------------------+\n",
            "|marketplace|customer_id|     review_id|product_id|product_parent|       product_title|   product_category|star_rating|helpful_votes|total_votes|vine|verified_purchase|     review_headline|         review_body|        review_date|\n",
            "+-----------+-----------+--------------+----------+--------------+--------------------+-------------------+-----------+-------------+-----------+----+-----------------+--------------------+--------------------+-------------------+\n",
            "|         US|   42689422|R1R9RU7JW0MFR2|B0124Y99PQ|     618027384|Casio CGP-700BK C...|Musical Instruments|          4|           20|         23|   Y|                N|Be prepared to be...|First off PLEASE ...|2015-08-27 00:00:00|\n",
            "|         US|   29182364|R19EFYNN3W8Q07|B00ZU4G0ZK|     499223759|TC Electronic Pol...|Musical Instruments|          5|           26|         32|   Y|                N|         Great Tuner|I’ve been using a...|2015-08-22 00:00:00|\n",
            "|         US|   19467797|R34DJ1R8AEU0SG|B00V66XWTI|     758752724|Audio-Technica AT...|Musical Instruments|          5|           29|         35|   Y|                N|Great mic, phenom...|[[VIDEOID:282d682...|2015-07-28 00:00:00|\n",
            "|         US|   52081784|R25P5CXK5L9RHF|B0100RBPTC|     139750877|Casio Privia PX16...|Musical Instruments|          5|          146|        161|   Y|                N|Review: Casio Pri...|[[VIDEOID:7885869...|2015-07-23 00:00:00|\n",
            "|         US|   17421494|R2E9VZB3I4LSN5|B0100RBPTC|     139750877|Casio Privia PX16...|Musical Instruments|          5|           55|         59|   Y|                N|The sound is magn...|The Casio Privia ...|2015-07-13 00:00:00|\n",
            "|         US|   50273418| RKYLHZL7EPELX|B00V66XWTI|     758752724|Audio-Technica AT...|Musical Instruments|          4|           19|         25|   Y|                N|Quality sound acc...|[[VIDEOID:2e41e07...|2015-06-17 00:00:00|\n",
            "|         US|   50027179|R1U13EKGQD3ZE6|B00MIXFBL0|     363629101|TASCAM DR-60DmkII...|Musical Instruments|          5|           22|         25|   Y|                N|            Powerful|[[VIDEOID:50615d5...|2015-03-08 00:00:00|\n",
            "|         US|   50258811| RYW05F1MUEF01|B00NW1IZ5Q|     923510791|Doppler Labs Dubs...|Musical Instruments|          5|           87|        102|   Y|                N|High Fidelity Ear...|I tested these ea...|2015-02-25 00:00:00|\n",
            "|         US|   28322689|R2SW4NXNO7HZJ5|B00MIXFBKG|      21180708|      Tascam DR-22WL|Musical Instruments|          4|           28|         33|   Y|                N|Excellent portabl...|The DR-22WL (2-ch...|2015-01-27 00:00:00|\n",
            "|         US|   52880152|R2016NFLSUR97Y|B00MIXFBKG|      21180708|      Tascam DR-22WL|Musical Instruments|          2|           26|         37|   Y|                N|Wi-Fi Recorder wi...|When it came to t...|2015-01-18 00:00:00|\n",
            "|         US|   51238346| RFCV9QXJ3D79X|B00MZCEJHQ|     930095666|Shure Portable Co...|Musical Instruments|          3|           20|         22|   Y|                N|Stylish Looks, So...|The bargain space...|2014-11-21 00:00:00|\n",
            "|         US|   48204392|R36779ZAY4ZT0Y|B00JA8QD40|     348378287|JamStik: The Guit...|Musical Instruments|          3|           46|         50|   Y|                N|Guitar-Like - But...|I checked out the...|2014-11-15 00:00:00|\n",
            "|         US|   53080186|R13PPTBWWV10Q6|B00MIXF2RS|     559231111|       Tascam US-2x2|Musical Instruments|          5|           19|         25|   Y|                N|Great for podcast...|[[VIDEOID:3e74561...|2014-11-11 00:00:00|\n",
            "|         US|   49131768|R2A3FFNJTDUBMV|B00JAEDIP6|     624394217|Yamaha PSRE443 61...|Musical Instruments|          5|           20|         27|   Y|                N|Beginner friendly...|The PSRE445 61 ke...|2014-09-22 00:00:00|\n",
            "|         US|   52736752|R3QQG4HUB214TM|B00JAEDIP6|     624394217|Yamaha PSRE443 61...|Musical Instruments|          5|          111|        128|   Y|                N|A versatile keybo...|The Yamaha PSRE44...|2014-09-11 00:00:00|\n",
            "|         US|   31463400|R3J9OSJNJB7KGM|B00JAEDIP6|     624394217|Yamaha PSRE443 61...|Musical Instruments|          5|           70|         80|   Y|                N|Perfect way for t...|I was excited to ...|2014-09-11 00:00:00|\n",
            "|         US|   27847324| RIMYDUAAFXY2U|B00L1LL7DQ|      27203332|D'Addario NS Micr...|Musical Instruments|          5|           22|         23|   Y|                N|D'Addario NS Micr...|This tuner is nic...|2014-09-10 00:00:00|\n",
            "|         US|   35360512|R22CYBPLKWDK6F|B00J6XI15S|     477564165|Blue Microphones ...|Musical Instruments|          5|           47|         54|   Y|                N|Surprisingly good...|Blue is an intere...|2014-08-07 00:00:00|\n",
            "|         US|   52825479|R1ETBDZ1LJ8CEL|B00J6XI15S|     477564165|Blue Microphones ...|Musical Instruments|          4|           28|         32|   Y|                N|Improves on the b...|&#34;Mikey&#34; h...|2014-08-01 00:00:00|\n",
            "|         US|   20325834|R28T5ISQ8AA7E5|B00H02C9TG|     854858339|Apogee Portable S...|Musical Instruments|          5|           40|         42|   Y|                N|Solid build, soun...|I own the JAM as ...|2014-07-28 00:00:00|\n",
            "+-----------+-----------+--------------+----------+--------------+--------------------+-------------------+-----------+-------------+-----------+----+-----------------+--------------------+--------------------+-------------------+\n",
            "only showing top 20 rows\n",
            "\n"
          ]
        }
      ]
    },
    {
      "cell_type": "code",
      "source": [
        "#4\n",
        "vine_program_no = helpful_votes.filter(helpful_votes.vine == \"N\")\n",
        "vine_program_no.show()"
      ],
      "metadata": {
        "colab": {
          "base_uri": "https://localhost:8080/"
        },
        "id": "oHq1hZ-Ly2M8",
        "outputId": "ee1d11b1-1034-4556-da8d-fbfffab7b018"
      },
      "execution_count": 21,
      "outputs": [
        {
          "output_type": "stream",
          "name": "stdout",
          "text": [
            "+-----------+-----------+--------------+----------+--------------+--------------------+-------------------+-----------+-------------+-----------+----+-----------------+--------------------+--------------------+-------------------+\n",
            "|marketplace|customer_id|     review_id|product_id|product_parent|       product_title|   product_category|star_rating|helpful_votes|total_votes|vine|verified_purchase|     review_headline|         review_body|        review_date|\n",
            "+-----------+-----------+--------------+----------+--------------+--------------------+-------------------+-----------+-------------+-----------+----+-----------------+--------------------+--------------------+-------------------+\n",
            "|         US|   15365576|R2243Y3OD8U6KQ|B00W1RTVGO|     160618734|Supertech stage l...|Musical Instruments|          5|           47|         61|   N|                N|This fills a room...|I am always looki...|2015-08-31 00:00:00|\n",
            "|         US|   28770559|R2TGT0CDTCAAHW|B00INJ7HBK|     157027184|Singing Machine I...|Musical Instruments|          5|           21|         23|   N|                Y|   excellent product|Kids love it! It'...|2015-08-31 00:00:00|\n",
            "|         US|   35225823| RX4D22YSXEF4P|B009EK8PUY|     166820090|Akai Front Load C...|Musical Instruments|          1|           37|         38|   N|                Y|All the reviews t...|All the reviews t...|2015-08-31 00:00:00|\n",
            "|         US|   24740219|R3FL2NTLFUSPTQ|B014K2S348|     865024902|AKG 2015 NEWEST M...|Musical Instruments|          5|           33|         37|   N|                N|Might need an Amp...|I picked these he...|2015-08-30 00:00:00|\n",
            "|         US|   26124872|R3QTP3YNZXAPPF|B004ISK4E2|     269767230|Fender CD-60 All ...|Musical Instruments|          3|           23|         24|   N|                Y|Couldnt be happie...|Great value. Awes...|2015-08-30 00:00:00|\n",
            "|         US|   16452718|R36V6V42VN5AS5|B00SCP7IB4|     160806469|Numark Mixtrack 3...|Musical Instruments|          5|           34|         37|   N|                Y|let me say that t...|First off, let me...|2015-08-30 00:00:00|\n",
            "|         US|   40567300|R27LZWE27BJPOB|B0142OY3ZM|     201152025|WOWTOU RGB Stage ...|Musical Instruments|          5|           22|         23|   N|                N|    Neat desktop toy|I saw this item a...|2015-08-30 00:00:00|\n",
            "|         US|   49287335|R1P7GJ0IN2BRNH|B005FIFM14|       2563833|Pick Punch - The ...|Musical Instruments|          5|           37|         37|   N|                Y|  super fun and easy|Had it for about ...|2015-08-29 00:00:00|\n",
            "|         US|   50984149|R2R6JPF9KOD2HJ|B008GXEFWC|     162279247|ddrum DD1 Complet...|Musical Instruments|          5|           19|         20|   N|                Y|   Super Drum Kit!!!|Awesome Kit With ...|2015-08-29 00:00:00|\n",
            "|         US|   18517211|R2J0ZZGFXKM8KR|B00MZY6DXM|     498246743|Bakelite Guitar F...|Musical Instruments|          2|           21|         22|   N|                Y|NOT A SET OF NUT ...|NOT A SET OF NUT ...|2015-08-28 00:00:00|\n",
            "|         US|   29380174|R238ZSG6TSUBNX|B0025VLQVE|     481754329|Dean Vendetta XMT...|Musical Instruments|          5|           27|         27|   N|                Y|          Amazing!!!|I can't believe p...|2015-08-28 00:00:00|\n",
            "|         US|   47575748| RC6Y8GYIQZ8YU|B00HVLUR54|       9240469|Audio-Technica AT...|Musical Instruments|          3|           72|         85|   N|                Y|Good Sound, Medio...|Sound quality is ...|2015-08-28 00:00:00|\n",
            "|         US|    1221512| RFL3TJED8C240|B00IZP4XR8|     386235968|Ibanez RG Series ...|Musical Instruments|          5|           13|         24|   N|                N|           It dj0nts|0/0<br />It dj0nt...|2015-08-28 00:00:00|\n",
            "|         US|   51260912|R3D4P7A8Q1C70F|B00WU5OM5M|      18153107|LaluceNatz 18LED ...|Musical Instruments|          5|           22|         27|   N|                Y|Great product, es...|Ok, here is the d...|2015-08-27 00:00:00|\n",
            "|         US|   40130155|R3PRNAQVQBB9M6|B00MUFJXTM|     500213118|TOTMC Legend of Z...|Musical Instruments|          1|           21|         30|   N|                Y|Product Not as Ad...|Terrible ocarina,...|2015-08-27 00:00:00|\n",
            "|         US|    3430931|R2NTTIW5KBKLYG|B011I9AKYW|     686654129|WOWTOU LED Stage ...|Musical Instruments|          5|           19|         20|   N|                N|   Great Party Light|This is a great a...|2015-08-27 00:00:00|\n",
            "|         US|   23046787|R3JNDLZ3KACRLG|B00MZCES7W|     356038397|Casio Learn-To-Pl...|Musical Instruments|          5|           29|         33|   N|                N|Best Learning Key...|My father in law ...|2015-08-27 00:00:00|\n",
            "|         US|   47324124|R1PVVYYY0Q1HZ0|B00IPWOEJI|     627374566|TMS Black Ebony W...|Musical Instruments|          5|           21|         21|   N|                Y|Appears to be goo...|Exactly what I wa...|2015-08-27 00:00:00|\n",
            "|         US|   29940086|R1G9N0CW2982PA|B00BHQXM8S|     122514984|             Casio_3|Musical Instruments|          5|           21|         24|   N|                Y|Perfect for what ...|Exactly what we n...|2015-08-26 00:00:00|\n",
            "|         US|   42339282|R2N8ZFHQBWHMDL|B0053CUHMG|     443018400|Epiphone Les Paul...|Musical Instruments|          2|           26|         28|   N|                Y|        Disappointed|Extremely disappo...|2015-08-26 00:00:00|\n",
            "+-----------+-----------+--------------+----------+--------------+--------------------+-------------------+-----------+-------------+-----------+----+-----------------+--------------------+--------------------+-------------------+\n",
            "only showing top 20 rows\n",
            "\n"
          ]
        }
      ]
    },
    {
      "cell_type": "code",
      "source": [
        "#5\n",
        "\n",
        "total_reviews_paid = vine_program_y.count()\n",
        "total_reviews_paid\n"
      ],
      "metadata": {
        "colab": {
          "base_uri": "https://localhost:8080/"
        },
        "id": "os9TDp0Fy9sK",
        "outputId": "c0bba100-adea-4296-ef90-ad7480e28374"
      },
      "execution_count": 19,
      "outputs": [
        {
          "output_type": "execute_result",
          "data": {
            "text/plain": [
              "60"
            ]
          },
          "metadata": {},
          "execution_count": 19
        }
      ]
    },
    {
      "cell_type": "code",
      "source": [
        "total_reviews_unpaid = vine_program_no.count()\n",
        "total_reviews_unpaid"
      ],
      "metadata": {
        "colab": {
          "base_uri": "https://localhost:8080/"
        },
        "id": "rJHEJSj00Etp",
        "outputId": "881888ce-17e9-457e-95f0-e93aeed4f51d"
      },
      "execution_count": 22,
      "outputs": [
        {
          "output_type": "execute_result",
          "data": {
            "text/plain": [
              "14477"
            ]
          },
          "metadata": {},
          "execution_count": 22
        }
      ]
    },
    {
      "cell_type": "code",
      "source": [
        "five_star_paid = vine_program_y.filter(vine_program_y.star_rating == 5).count()\n",
        "five_star_paid"
      ],
      "metadata": {
        "colab": {
          "base_uri": "https://localhost:8080/"
        },
        "id": "R6mAhz4O0Qvr",
        "outputId": "3ee92e6b-5bc2-40bc-8b02-fe05265c77ec"
      },
      "execution_count": 23,
      "outputs": [
        {
          "output_type": "execute_result",
          "data": {
            "text/plain": [
              "34"
            ]
          },
          "metadata": {},
          "execution_count": 23
        }
      ]
    },
    {
      "cell_type": "code",
      "source": [
        "five_star_unpaid = vine_program_no.filter(vine_program_no.star_rating == 5).count()\n",
        "five_star_unpaid"
      ],
      "metadata": {
        "colab": {
          "base_uri": "https://localhost:8080/"
        },
        "id": "zZpHzdu00v-Z",
        "outputId": "a01b7e12-f738-4d67-ac4c-13b6c68af5c8"
      },
      "execution_count": 24,
      "outputs": [
        {
          "output_type": "execute_result",
          "data": {
            "text/plain": [
              "8212"
            ]
          },
          "metadata": {},
          "execution_count": 24
        }
      ]
    },
    {
      "cell_type": "code",
      "source": [
        "per_five_paid = (five_star_paid/total_reviews_paid)*100\n",
        "per_five_paid"
      ],
      "metadata": {
        "colab": {
          "base_uri": "https://localhost:8080/"
        },
        "id": "iCE-Ips002f1",
        "outputId": "59477fe2-9a98-4fd5-d333-08d5cc133071"
      },
      "execution_count": 25,
      "outputs": [
        {
          "output_type": "execute_result",
          "data": {
            "text/plain": [
              "56.666666666666664"
            ]
          },
          "metadata": {},
          "execution_count": 25
        }
      ]
    },
    {
      "cell_type": "code",
      "source": [
        "per_five_unpaid  =(five_star_unpaid/total_reviews_unpaid)*100\n",
        "per_five_unpaid"
      ],
      "metadata": {
        "colab": {
          "base_uri": "https://localhost:8080/"
        },
        "id": "1OgPXS9X1qwM",
        "outputId": "cb6ba27d-2054-42c5-db5b-1205b29fe8c3"
      },
      "execution_count": 26,
      "outputs": [
        {
          "output_type": "execute_result",
          "data": {
            "text/plain": [
              "56.72445948746287"
            ]
          },
          "metadata": {},
          "execution_count": 26
        }
      ]
    }
  ]
}